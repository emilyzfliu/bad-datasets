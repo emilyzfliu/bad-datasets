{
 "cells": [
  {
   "cell_type": "code",
   "execution_count": 1,
   "metadata": {},
   "outputs": [],
   "source": [
    "import numpy as np\n",
    "import cv2\n",
    "import copy\n",
    "import math\n",
    "from scipy.interpolate import interp1d"
   ]
  },
  {
   "cell_type": "code",
   "execution_count": 2,
   "metadata": {},
   "outputs": [],
   "source": [
    "fname = 'image_mask0.npy'"
   ]
  },
  {
   "cell_type": "code",
   "execution_count": 3,
   "metadata": {},
   "outputs": [],
   "source": [
    "x = np.load(fname)"
   ]
  },
  {
   "cell_type": "code",
   "execution_count": 4,
   "metadata": {},
   "outputs": [
    {
     "ename": "NameError",
     "evalue": "name 'y' is not defined",
     "output_type": "error",
     "traceback": [
      "\u001b[0;31m---------------------------------------------------------------------------\u001b[0m",
      "\u001b[0;31mNameError\u001b[0m                                 Traceback (most recent call last)",
      "\u001b[0;32m<ipython-input-4-c45ccd873d09>\u001b[0m in \u001b[0;36m<module>\u001b[0;34m\u001b[0m\n\u001b[0;32m----> 1\u001b[0;31m \u001b[0mmax\u001b[0m\u001b[0;34m(\u001b[0m\u001b[0;34m[\u001b[0m\u001b[0mmax\u001b[0m\u001b[0;34m(\u001b[0m\u001b[0;34m[\u001b[0m\u001b[0mx\u001b[0m \u001b[0;32mfor\u001b[0m \u001b[0mx\u001b[0m \u001b[0;32min\u001b[0m \u001b[0my\u001b[0m\u001b[0;34m[\u001b[0m\u001b[0mi\u001b[0m\u001b[0;34m]\u001b[0m \u001b[0;32mif\u001b[0m \u001b[0mx\u001b[0m \u001b[0;34m<\u001b[0m \u001b[0;36m4\u001b[0m\u001b[0;34m]\u001b[0m\u001b[0;34m)\u001b[0m \u001b[0;32mfor\u001b[0m \u001b[0mi\u001b[0m \u001b[0;32min\u001b[0m \u001b[0mrange\u001b[0m\u001b[0;34m(\u001b[0m\u001b[0;36m256\u001b[0m\u001b[0;34m)\u001b[0m\u001b[0;34m]\u001b[0m\u001b[0;34m)\u001b[0m\u001b[0;34m\u001b[0m\u001b[0;34m\u001b[0m\u001b[0m\n\u001b[0m\u001b[1;32m      2\u001b[0m \u001b[0;31m# [0, 1, 4, 5, 7, 8, 9, 10, 12, 14]\u001b[0m\u001b[0;34m\u001b[0m\u001b[0;34m\u001b[0m\u001b[0;34m\u001b[0m\u001b[0m\n",
      "\u001b[0;32m<ipython-input-4-c45ccd873d09>\u001b[0m in \u001b[0;36m<listcomp>\u001b[0;34m(.0)\u001b[0m\n\u001b[0;32m----> 1\u001b[0;31m \u001b[0mmax\u001b[0m\u001b[0;34m(\u001b[0m\u001b[0;34m[\u001b[0m\u001b[0mmax\u001b[0m\u001b[0;34m(\u001b[0m\u001b[0;34m[\u001b[0m\u001b[0mx\u001b[0m \u001b[0;32mfor\u001b[0m \u001b[0mx\u001b[0m \u001b[0;32min\u001b[0m \u001b[0my\u001b[0m\u001b[0;34m[\u001b[0m\u001b[0mi\u001b[0m\u001b[0;34m]\u001b[0m \u001b[0;32mif\u001b[0m \u001b[0mx\u001b[0m \u001b[0;34m<\u001b[0m \u001b[0;36m4\u001b[0m\u001b[0;34m]\u001b[0m\u001b[0;34m)\u001b[0m \u001b[0;32mfor\u001b[0m \u001b[0mi\u001b[0m \u001b[0;32min\u001b[0m \u001b[0mrange\u001b[0m\u001b[0;34m(\u001b[0m\u001b[0;36m256\u001b[0m\u001b[0;34m)\u001b[0m\u001b[0;34m]\u001b[0m\u001b[0;34m)\u001b[0m\u001b[0;34m\u001b[0m\u001b[0;34m\u001b[0m\u001b[0m\n\u001b[0m\u001b[1;32m      2\u001b[0m \u001b[0;31m# [0, 1, 4, 5, 7, 8, 9, 10, 12, 14]\u001b[0m\u001b[0;34m\u001b[0m\u001b[0;34m\u001b[0m\u001b[0;34m\u001b[0m\u001b[0m\n",
      "\u001b[0;31mNameError\u001b[0m: name 'y' is not defined"
     ]
    }
   ],
   "source": [
    "max([max([x for x in y[i] if x < 4]) for i in range(256)])\n",
    "# [0, 1, 4, 5, 7, 8, 9, 10, 12, 14]"
   ]
  },
  {
   "cell_type": "code",
   "execution_count": 5,
   "metadata": {},
   "outputs": [],
   "source": [
    "# from https://github.com/neheller/labels18/blob/master/preprocessing/tools.py\n",
    "\n",
    "class Vector2():\n",
    "    def __init__(self, x, y):\n",
    "        self.x = x\n",
    "        self.y = y\n",
    "    def __add__(self, other):\n",
    "        return Vector2(self.x + other.x, self.y + other.y)\n",
    "    def __sub__(self, other):\n",
    "        return Vector2(self.x - other.x, self.y - other.y)\n",
    "    def __mul__(self, other):\n",
    "        return Vector2(self.x * other, self.y * other)\n",
    "\n",
    "    def magnitude(self):\n",
    "        return (self.x**2 + self.y**2) ** 0.5\n",
    "\n",
    "    def unitV(self):\n",
    "        if self.magnitude() == 0:\n",
    "            return Vector2(0,0)\n",
    "        return Vector2(self.x / self.magnitude(), self.y / self.magnitude())\n",
    "\n",
    "    def dotP(self, other):\n",
    "        return (self.x * other.x) + (self.y * other.y)\n",
    "\n",
    "    @staticmethod\n",
    "    def randomVector():\n",
    "        return Vector2(random.uniform(-1, 1), random.uniform(-1, 1))\n",
    "\n",
    "    def __str__(self):\n",
    "        return \"x = \" + str(self.x) + \" y = \" + str(self.y)\n",
    "\n",
    "def smooth_function(center, variance):\n",
    "    x = np.linspace(0, 2*math.pi, num = 6, endpoint = True)\n",
    "    y = np.random.normal(center, variance**0.5, 5)\n",
    "    y = np.append(y, y[0])\n",
    "    return interp1d(x, y, kind='cubic')\n",
    "\n",
    "def perturb_nat(image, variance):\n",
    "    center = 0\n",
    "    # gray = cv2.cvtColor(image, cv2.COLOR_BGR2GRAY) #these are only needed for RBG images\n",
    "    # ret, thresh = cv2.threshold(gray, 20, 255, 0)\n",
    "    contours, hierarchy = cv2.findContours(image, cv2.RETR_LIST, cv2.CHAIN_APPROX_NONE)\n",
    "    output = np.zeros(np.shape(image))\n",
    "    if len(contours) == 0: #blank image\n",
    "        return output\n",
    "\n",
    "    for contour in contours:\n",
    "        f = smooth_function(center, variance)\n",
    "        size = len(contour)\n",
    "\n",
    "        br = cv2.boundingRect(contour)\n",
    "        cx = br[0] + br[2] / 2\n",
    "        cy = br[1] + br[3] / 2\n",
    "        center_point = Vector2(cx, cy)\n",
    "\n",
    "        for count, point in enumerate(contour):\n",
    "            x = (count / size) * 2 * math.pi\n",
    "            distance_to_move = f(x)\n",
    "            current_point = Vector2(point[0][0], point[0][1])\n",
    "            direction = current_point - center_point\n",
    "            direction = direction.unitV()\n",
    "            offset = direction * distance_to_move\n",
    "            contour[count][0] = [current_point.x - offset.x, current_point.y - offset.y]\n",
    "\n",
    "        cv2.fillPoly(output, pts=[contour], color=1)\n",
    "    return output"
   ]
  },
  {
   "cell_type": "code",
   "execution_count": 6,
   "metadata": {},
   "outputs": [
    {
     "name": "stdout",
     "output_type": "stream",
     "text": [
      "0.40283203125\n",
      "0.78125\n",
      "0.78125\n",
      "0.78125\n",
      "0.50506591796875\n",
      "0.65460205078125\n",
      "0.78125\n",
      "0.78125\n",
      "0.78125\n",
      "0.78125\n"
     ]
    }
   ],
   "source": [
    "y = copy.deepcopy(x[0])\n",
    "variance = 100\n",
    "for val in [0, 1, 4, 5, 7, 8, 9, 10, 12, 14]:\n",
    "    mask = np.array(x[0] == val).astype(np.uint8)\n",
    "    output = perturb_nat(mask, variance).astype(np.uint8)\n",
    "    #print(np.sum(output)/(256**2)*100)\n",
    "    y[output] = val\n",
    "    print(np.sum(x[0] != y)/(256**2)*100)"
   ]
  },
  {
   "cell_type": "code",
   "execution_count": 7,
   "metadata": {
    "scrolled": true
   },
   "outputs": [
    {
     "data": {
      "text/plain": [
       "(1, 256, 256)"
      ]
     },
     "execution_count": 7,
     "metadata": {},
     "output_type": "execute_result"
    }
   ],
   "source": [
    "y = np.reshape(y, (1, 256, 256))\n",
    "y.shape #(1, 256, 256)"
   ]
  },
  {
   "cell_type": "code",
   "execution_count": 8,
   "metadata": {},
   "outputs": [
    {
     "data": {
      "text/plain": [
       "0.0799102783203125"
      ]
     },
     "execution_count": 8,
     "metadata": {},
     "output_type": "execute_result"
    }
   ],
   "source": [
    "np.mean(np.sqrt((x - y)**2)) # MSE"
   ]
  },
  {
   "cell_type": "code",
   "execution_count": 9,
   "metadata": {},
   "outputs": [
    {
     "data": {
      "text/plain": [
       "0.78125"
      ]
     },
     "execution_count": 9,
     "metadata": {},
     "output_type": "execute_result"
    }
   ],
   "source": [
    "np.sum(x != y)/(256**2)*100 # percent disagreement"
   ]
  },
  {
   "cell_type": "code",
   "execution_count": 11,
   "metadata": {},
   "outputs": [],
   "source": [
    "np.save('image_mask0_pertb.npy', y)"
   ]
  },
  {
   "cell_type": "code",
   "execution_count": null,
   "metadata": {},
   "outputs": [],
   "source": []
  }
 ],
 "metadata": {
  "kernelspec": {
   "display_name": "Python 3",
   "language": "python",
   "name": "python3"
  },
  "language_info": {
   "codemirror_mode": {
    "name": "ipython",
    "version": 3
   },
   "file_extension": ".py",
   "mimetype": "text/x-python",
   "name": "python",
   "nbconvert_exporter": "python",
   "pygments_lexer": "ipython3",
   "version": "3.8.5"
  }
 },
 "nbformat": 4,
 "nbformat_minor": 4
}
